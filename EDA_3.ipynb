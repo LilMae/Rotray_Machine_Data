{
 "cells": [
  {
   "cell_type": "markdown",
   "metadata": {},
   "source": [
    "# 3. VAT-MCD Dataset"
   ]
  },
  {
   "cell_type": "code",
   "execution_count": 1,
   "metadata": {},
   "outputs": [],
   "source": [
    "import os\n",
    "import pandas as pd\n",
    "import numpy as np\n",
    "import scipy.io"
   ]
  },
  {
   "cell_type": "markdown",
   "metadata": {},
   "source": [
    "## 3.1 개별 데이터 확인\n",
    "- VAT-MCD 는 매틀랩 데이터형식(.mat)으로되어 있어 해당 파일을 파싱하는 작업이 필요하다."
   ]
  },
  {
   "cell_type": "code",
   "execution_count": 179,
   "metadata": {},
   "outputs": [],
   "source": [
    "sampling_rate = 25.6 * 1000 # 25.6 kHz\n",
    "\n",
    "vib_sample_path = '/home/lilmae/Desktop/Rotray_Machine_Data/dataset/VAT-MCD/vibration/0Nm_BPFI_03.mat'\n",
    "vib_data = scipy.io.loadmat(vib_sample_path)"
   ]
  },
  {
   "cell_type": "markdown",
   "metadata": {},
   "source": [
    "## 3.1 개별 데이터 확인\n",
    "- 먼저 개별 데이터(파일)이 어떤 형태로 존재하는 지 확인해 본다.\n",
    "- 확인 후, 데이터를 센서 단위로 잘라서 np.float32로 바꾸는 작업까지 해둔다.\n",
    "> 개별 파일에서 x_A, y_A, x_B, y_B 를 추출하는 작업을 함수화   \n",
    "> 각 센서의 위치와 방향은 아래 사진과 같다."
   ]
  },
  {
   "cell_type": "markdown",
   "metadata": {},
   "source": [
    "![Sample Image](figs/3_sensor.png )"
   ]
  },
  {
   "cell_type": "code",
   "execution_count": 177,
   "metadata": {},
   "outputs": [
    {
     "name": "stdout",
     "output_type": "stream",
     "text": [
      "vib_data.keys() dict_keys(['__header__', '__version__', '__globals__', 'Signal'])\n"
     ]
    }
   ],
   "source": [
    "print(f'vib_data.keys() {vib_data.keys()}')\n",
    "signal_data = vib_data['Signal']\n",
    "\n",
    "sensor_data = signal_data[0][0][1][0][0][0]\n",
    "sensor_data = sensor_data.transpose()\n",
    "\n",
    "x_A_np = sensor_data[0].astype('float32')\n",
    "y_A_np = sensor_data[1].astype('float32')\n",
    "x_B_np = sensor_data[2].astype('float32')\n",
    "y_B_np = sensor_data[3].astype('float32')"
   ]
  },
  {
   "cell_type": "markdown",
   "metadata": {},
   "source": [
    "## 3.2 데이터 interpolation\n",
    "- 서로 다른 sampling rate 를 가지는 데이터를 활용하기 때문에 이 sampling rate 를 맞추어 주는 것이 필요하다.\n",
    "- target sampling rate 를 기준으로 데이터를 interpolation 할 수 있도록 한다."
   ]
  },
  {
   "cell_type": "code",
   "execution_count": 183,
   "metadata": {},
   "outputs": [],
   "source": [
    "from scipy.interpolate import interp1d\n",
    "\n",
    "signal = x_A_np # 센서 하나씩 interpolation할 수 있도록 한다 : 예시 x-sensor\n",
    "time_np = np.arange(len(signal))/sampling_rate\n",
    "target_sampling = 10*1000 # 기준으로 정한 sampling rate : 예시 10kHz\n",
    "target_time = np.linspace(0, time_np[-1], target_sampling, endpoint=False) # target sampling rate에 맞도록 시간축 생성\n",
    "\n",
    "interpolator = interp1d(time_np, signal, kind='linear')\n",
    "interpolated_signal = interpolator(target_time)"
   ]
  },
  {
   "cell_type": "markdown",
   "metadata": {},
   "source": [
    "## 3.3 전체 데이터를 순회해서 접근\n",
    "- 전체 데이터를 순회하여 접근하고 데이터 파일과 클래스 정보를 확인하는 작업을 해준다.\n",
    "    > 클래스가 unbalance 인 경우 6g 과 27g 의 하부 클래스가 존재함\n",
    "- 이를 파일 이름, 파일 경로, 클래스 정보 로 데이터베이스화 한다."
   ]
  },
  {
   "cell_type": "code",
   "execution_count": 213,
   "metadata": {},
   "outputs": [],
   "source": [
    "import os\n",
    "\n",
    "vat_root = os.path.join(os.getcwd(), 'dataset', 'VAT-MCD', 'vibration')\n",
    "\n",
    "data ={\n",
    "    'file_name' : [],\n",
    "    'file_path' : [],\n",
    "    'class' : [],\n",
    "    'severity' : [],\n",
    "    'load' : [],\n",
    "    'sampling_rate' : sampling_rate,\n",
    "    'speed' : '680-2460'\n",
    "}\n",
    "\n",
    "\n",
    "for file_name in os.listdir(vat_root):\n",
    "    file_path = os.path.join(vat_root, file_name)\n",
    "    \n",
    "    data['file_name'].append(file_name)\n",
    "    data['file_path'].append(file_path)\n",
    "    \n",
    "    file_info = file_name.split('_')\n",
    "    severity = None\n",
    "    if len(file_info) ==2:\n",
    "        class_name = 'normal'\n",
    "        load = file_info[0]\n",
    "    elif len(file_info) ==3:\n",
    "        load = file_info[0] \n",
    "        class_name = file_info[1]\n",
    "        severity = file_info[2]\n",
    "    else:\n",
    "        print('err : {file_name}')\n",
    "        \n",
    "        \n",
    "    data['class'].append(class_name)\n",
    "    data['severity'].append(severity)\n",
    "    data['load'].append(load)\n",
    "    \n",
    "\n",
    "data_pd = pd.DataFrame(data)"
   ]
  },
  {
   "cell_type": "code",
   "execution_count": 212,
   "metadata": {},
   "outputs": [
    {
     "data": {
      "text/html": [
       "<div>\n",
       "<style scoped>\n",
       "    .dataframe tbody tr th:only-of-type {\n",
       "        vertical-align: middle;\n",
       "    }\n",
       "\n",
       "    .dataframe tbody tr th {\n",
       "        vertical-align: top;\n",
       "    }\n",
       "\n",
       "    .dataframe thead th {\n",
       "        text-align: right;\n",
       "    }\n",
       "</style>\n",
       "<table border=\"1\" class=\"dataframe\">\n",
       "  <thead>\n",
       "    <tr style=\"text-align: right;\">\n",
       "      <th></th>\n",
       "      <th>file_name</th>\n",
       "      <th>file_path</th>\n",
       "      <th>class</th>\n",
       "      <th>severity</th>\n",
       "      <th>load</th>\n",
       "      <th>sampling_rate</th>\n",
       "      <th>speed</th>\n",
       "    </tr>\n",
       "  </thead>\n",
       "  <tbody>\n",
       "    <tr>\n",
       "      <th>0</th>\n",
       "      <td>2Nm_Misalign_03.mat</td>\n",
       "      <td>/home/lilmae/Desktop/Rotray_Machine_Data/datas...</td>\n",
       "      <td>Misalign</td>\n",
       "      <td>03.mat</td>\n",
       "      <td>2Nm</td>\n",
       "      <td>25600.0</td>\n",
       "      <td>680-2460</td>\n",
       "    </tr>\n",
       "    <tr>\n",
       "      <th>1</th>\n",
       "      <td>4Nm_Normal.mat</td>\n",
       "      <td>/home/lilmae/Desktop/Rotray_Machine_Data/datas...</td>\n",
       "      <td>normal</td>\n",
       "      <td>None</td>\n",
       "      <td>4Nm</td>\n",
       "      <td>25600.0</td>\n",
       "      <td>680-2460</td>\n",
       "    </tr>\n",
       "    <tr>\n",
       "      <th>2</th>\n",
       "      <td>0Nm_Misalign_03.mat</td>\n",
       "      <td>/home/lilmae/Desktop/Rotray_Machine_Data/datas...</td>\n",
       "      <td>Misalign</td>\n",
       "      <td>03.mat</td>\n",
       "      <td>0Nm</td>\n",
       "      <td>25600.0</td>\n",
       "      <td>680-2460</td>\n",
       "    </tr>\n",
       "    <tr>\n",
       "      <th>3</th>\n",
       "      <td>0Nm_BPFI_10.mat</td>\n",
       "      <td>/home/lilmae/Desktop/Rotray_Machine_Data/datas...</td>\n",
       "      <td>BPFI</td>\n",
       "      <td>10.mat</td>\n",
       "      <td>0Nm</td>\n",
       "      <td>25600.0</td>\n",
       "      <td>680-2460</td>\n",
       "    </tr>\n",
       "    <tr>\n",
       "      <th>4</th>\n",
       "      <td>4Nm_Misalign_03.mat</td>\n",
       "      <td>/home/lilmae/Desktop/Rotray_Machine_Data/datas...</td>\n",
       "      <td>Misalign</td>\n",
       "      <td>03.mat</td>\n",
       "      <td>4Nm</td>\n",
       "      <td>25600.0</td>\n",
       "      <td>680-2460</td>\n",
       "    </tr>\n",
       "  </tbody>\n",
       "</table>\n",
       "</div>"
      ],
      "text/plain": [
       "             file_name                                          file_path  \\\n",
       "0  2Nm_Misalign_03.mat  /home/lilmae/Desktop/Rotray_Machine_Data/datas...   \n",
       "1       4Nm_Normal.mat  /home/lilmae/Desktop/Rotray_Machine_Data/datas...   \n",
       "2  0Nm_Misalign_03.mat  /home/lilmae/Desktop/Rotray_Machine_Data/datas...   \n",
       "3      0Nm_BPFI_10.mat  /home/lilmae/Desktop/Rotray_Machine_Data/datas...   \n",
       "4  4Nm_Misalign_03.mat  /home/lilmae/Desktop/Rotray_Machine_Data/datas...   \n",
       "\n",
       "      class severity load  sampling_rate     speed  \n",
       "0  Misalign   03.mat  2Nm        25600.0  680-2460  \n",
       "1    normal     None  4Nm        25600.0  680-2460  \n",
       "2  Misalign   03.mat  0Nm        25600.0  680-2460  \n",
       "3      BPFI   10.mat  0Nm        25600.0  680-2460  \n",
       "4  Misalign   03.mat  4Nm        25600.0  680-2460  "
      ]
     },
     "execution_count": 212,
     "metadata": {},
     "output_type": "execute_result"
    }
   ],
   "source": [
    "data_pd.head()"
   ]
  },
  {
   "cell_type": "markdown",
   "metadata": {},
   "source": [
    "## 3.4. 전체 함수화\n",
    "1. `generate_vat_df` : 전체 데이터를 순회해 pd.DataFrame 으로 만드는 함수\n",
    "2. `open_vat_file` : 개별 데이터를 열어 time,x,y,z 의 np.array 로 추출해 주는 함수\n",
    "3. `interpol_vat` :센서 데이터를 지정하는 sampling rate로 interpolation 해주는 함수"
   ]
  },
  {
   "cell_type": "code",
   "execution_count": 214,
   "metadata": {},
   "outputs": [],
   "source": [
    "import os\n",
    "import pandas as pd\n",
    "import numpy as np\n",
    "from scipy.interpolate import interp1d\n",
    "\n",
    "# 1. generate_vat_df : 전체 데이터를 순회해 pd.DataFrame 으로 만드는 함수\n",
    "def generate_vat_df(vat_root):\n",
    "\n",
    "    data ={\n",
    "        'file_name' : [],\n",
    "        'file_path' : [],\n",
    "        'class' : [],\n",
    "        'severity' : [],\n",
    "        'load' : [],\n",
    "        'sampling_rate' : sampling_rate,\n",
    "        'speed' : '680-2460'\n",
    "    }\n",
    "\n",
    "\n",
    "    for file_name in os.listdir(vat_root):\n",
    "        file_path = os.path.join(vat_root, file_name)\n",
    "        \n",
    "        data['file_name'].append(file_name)\n",
    "        data['file_path'].append(file_path)\n",
    "        \n",
    "        file_info = file_name.split('_')\n",
    "        severity = None\n",
    "        if len(file_info) ==2:\n",
    "            class_name = 'normal'\n",
    "            load = file_info[0]\n",
    "        elif len(file_info) ==3:\n",
    "            load = file_info[0] \n",
    "            class_name = file_info[1]\n",
    "            severity = file_info[2]\n",
    "        else:\n",
    "            print('err : {file_name}')\n",
    "            \n",
    "            \n",
    "        data['class'].append(class_name)\n",
    "        data['severity'].append(severity)\n",
    "        data['load'].append(load)\n",
    "        \n",
    "\n",
    "    data_pd = pd.DataFrame(data)\n",
    "    \n",
    "    return data_pd\n",
    "\n",
    "# 2. open_vat_file : 개별 데이터를 열어 x_A_np, y_A_np, x_B_np, y_B_np 의 np.array 로 추출해 주는 함수\n",
    "def open_vat_file(file_path):\n",
    "    \n",
    "    vib_data = scipy.io.loadmat(file_path)\n",
    "    signal_data = vib_data['Signal']\n",
    "\n",
    "    sensor_data = signal_data[0][0][1][0][0][0]\n",
    "    sensor_data = sensor_data.transpose()\n",
    "\n",
    "    x_A_np = sensor_data[0].astype('float32')\n",
    "    y_A_np = sensor_data[1].astype('float32')\n",
    "    x_B_np = sensor_data[2].astype('float32')\n",
    "    y_B_np = sensor_data[3].astype('float32')\n",
    "    \n",
    "    return x_A_np, y_A_np, x_B_np, y_B_np\n",
    "\n",
    "# 3. interpol_vbl :센서 데이터를 지정하는 sampling rate로 interpolation 해주는 함수\n",
    "def interpol_vat(signal_np, target_sampling):\n",
    "\n",
    "    time_np = np.arange(len(signal_np))/sampling_rate\n",
    "    target_sampling = 10*1000 # 기준으로 정한 sampling rate : 예시 10kHz\n",
    "    target_time = np.linspace(0, time_np[-1], target_sampling, endpoint=False) # target sampling rate에 맞도록 시간축 생성\n",
    "\n",
    "    interpolator = interp1d(time_np, signal_np, kind='linear')\n",
    "    interpolated_signal = interpolator(target_time)\n",
    "    \n",
    "    return interpolated_signal, target_time"
   ]
  },
  {
   "cell_type": "code",
   "execution_count": null,
   "metadata": {},
   "outputs": [],
   "source": []
  }
 ],
 "metadata": {
  "kernelspec": {
   "display_name": "LLM",
   "language": "python",
   "name": "python3"
  },
  "language_info": {
   "codemirror_mode": {
    "name": "ipython",
    "version": 3
   },
   "file_extension": ".py",
   "mimetype": "text/x-python",
   "name": "python",
   "nbconvert_exporter": "python",
   "pygments_lexer": "ipython3",
   "version": "3.10.15"
  }
 },
 "nbformat": 4,
 "nbformat_minor": 2
}
