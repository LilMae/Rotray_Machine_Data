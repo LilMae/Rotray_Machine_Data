{
 "cells": [
  {
   "cell_type": "code",
   "execution_count": 1,
   "metadata": {},
   "outputs": [],
   "source": [
    "from scipy.fft import fft\n",
    "\n",
    "def extract_frequency_domain_features(signal, sampling_rate=4096):\n",
    "    \"\"\"\n",
    "    주파수 도메인 특징 추출\n",
    "    :param signal: numpy array (1xN 형태)\n",
    "    :param sampling_rate: 샘플링 주파수 (Hz)\n",
    "    :return: dict 형태의 주파수 도메인 특징\n",
    "    \"\"\"\n",
    "    N = len(signal)\n",
    "    freq = np.fft.fftfreq(N, d=1/sampling_rate)[:N//2]\n",
    "    fft_values = np.abs(fft(signal))[:N//2]\n",
    "    \n",
    "    total_power = np.sum(fft_values**2)\n",
    "    max_frequency = freq[np.argmax(fft_values)]\n",
    "    mean_frequency = np.sum(freq * fft_values) / np.sum(fft_values)\n",
    "    median_frequency = freq[np.cumsum(fft_values) >= np.sum(fft_values) / 2][0]\n",
    "    spectral_skewness = np.mean((freq - mean_frequency)**3 * fft_values) / (np.std(freq) + 1e-10)**3\n",
    "    spectral_kurtosis = np.mean((freq - mean_frequency)**4 * fft_values) / (np.std(freq) + 1e-10)**4\n",
    "    peak_amplitude = np.max(fft_values)\n",
    "    band_energy = np.sum(fft_values[(freq >= 0.1) & (freq <= 1.0)]**2)\n",
    "    dominant_frequency_power = fft_values[np.argmax(fft_values)]**2\n",
    "    spectral_entropy = -np.sum((fft_values / np.sum(fft_values)) * np.log2(fft_values / np.sum(fft_values) + 1e-10))\n",
    "    rms_frequency = np.sqrt(np.mean(fft_values**2))\n",
    "    variance_frequency = np.var(fft_values)\n",
    "    \n",
    "    features = {\n",
    "        \"total_power\": total_power,\n",
    "        \"max_frequency\": max_frequency,\n",
    "        \"mean_frequency\": mean_frequency,\n",
    "        \"median_frequency\": median_frequency,\n",
    "        \"spectral_skewness\": spectral_skewness,\n",
    "        \"spectral_kurtosis\": spectral_kurtosis,\n",
    "        \"peak_amplitude\": peak_amplitude,\n",
    "        \"band_energy_0.1_1Hz\": band_energy,\n",
    "        \"dominant_frequency_power\": dominant_frequency_power,\n",
    "        \"spectral_entropy\": spectral_entropy,\n",
    "        \"rms_frequency\": rms_frequency,\n",
    "        \"variance_frequency\": variance_frequency\n",
    "    }\n",
    "    \n",
    "    return features\n",
    "\n",
    "import numpy as np\n",
    "\n",
    "def extract_time_domain_features(signal):\n",
    "    \"\"\"\n",
    "    시간 도메인 특징 추출\n",
    "    :param signal: numpy array (1xN 형태)\n",
    "    :return: dict 형태의 시간 도메인 특징\n",
    "    \"\"\"\n",
    "    features = {}\n",
    "    signal_mean = np.mean(signal)\n",
    "    signal_std = np.std(signal)\n",
    "    signal_max = np.max(signal)\n",
    "    signal_min = np.min(signal)\n",
    "    signal_rms = np.sqrt(np.mean(signal**2))\n",
    "    signal_skew = np.mean((signal - signal_mean)**3) / (signal_std**3 + 1e-10)\n",
    "    signal_kurt = np.mean((signal - signal_mean)**4) / (signal_std**4 + 1e-10)\n",
    "    signal_peak = np.max(np.abs(signal))\n",
    "    signal_ppv = signal_max - signal_min  # Peak-to-Peak Value\n",
    "    signal_crest = signal_peak / (signal_rms + 1e-10)\n",
    "    signal_impulse = signal_peak / (np.mean(np.abs(signal)) + 1e-10)\n",
    "    signal_shape = signal_rms / (np.mean(np.abs(signal)) + 1e-10)\n",
    "    \n",
    "    features.update({\n",
    "        \"mean\": signal_mean,\n",
    "        \"std\": signal_std,\n",
    "        \"max\": signal_max,\n",
    "        \"min\": signal_min,\n",
    "        \"rms\": signal_rms,\n",
    "        \"skewness\": signal_skew,\n",
    "        \"kurtosis\": signal_kurt,\n",
    "        \"peak\": signal_peak,\n",
    "        \"ppv\": signal_ppv,\n",
    "        \"crest_factor\": signal_crest,\n",
    "        \"impulse_factor\": signal_impulse,\n",
    "        \"shape_factor\": signal_shape\n",
    "    })\n",
    "    \n",
    "    return features\n",
    "\n",
    "import numpy as np\n",
    "\n",
    "def compute_fft(signal: np.ndarray, sampling_rate: float):\n",
    "    \"\"\"\n",
    "    입력 신호에 대해 FFT 변환을 수행하고 magnitude, phase, freq를 계산.\n",
    "    \n",
    "    :param signal: np.ndarray, 입력 신호 (float32)\n",
    "    :param sampling_rate: float, 샘플링 레이트 (Hz, float32)\n",
    "    :return: tuple (magnitude, phase, freq)\n",
    "        - magnitude: np.ndarray, 진폭 스펙트럼\n",
    "        - phase: np.ndarray, 위상 스펙트럼\n",
    "        - freq: np.ndarray, 주파수 축\n",
    "    \"\"\"\n",
    "    # 신호 길이\n",
    "    n = len(signal)\n",
    "    \n",
    "    # FFT 계산\n",
    "    fft_result = np.fft.fft(signal)\n",
    "    \n",
    "    # 주파수 계산\n",
    "    freq = np.fft.fftfreq(n, d=1 / sampling_rate)\n",
    "    \n",
    "    # 진폭 및 위상 계산\n",
    "    magnitude = np.abs(fft_result)  # FFT의 크기 (magnitude)\n",
    "    phase = np.angle(fft_result)   # FFT의 위상 (phase)\n",
    "    \n",
    "    # 주파수는 대칭이므로 양수 주파수 부분만 반환\n",
    "    half_n = n // 2\n",
    "    return magnitude[:half_n], phase[:half_n], freq[:half_n]"
   ]
  },
  {
   "cell_type": "markdown",
   "metadata": {},
   "source": [
    "# 4. VBL-VA001 Dataset"
   ]
  },
  {
   "cell_type": "code",
   "execution_count": 74,
   "metadata": {},
   "outputs": [],
   "source": [
    "import pandas as pd\n",
    "import numpy as np\n",
    "\n",
    "sampling_rate = 20*1000 # 20kHz\n",
    "motor_speed = 3000 # 3000 RPM fixed"
   ]
  },
  {
   "cell_type": "markdown",
   "metadata": {},
   "source": [
    "## 4.1 개별 데이터 확인\n",
    "- 먼저 개별 데이터(파일)이 어떤 형태로 존재하는 지 확인해 본다.\n",
    "- 확인 후, 데이터를 센서 단위로 잘라서 np.float32로 바꾸는 작업까지 해둔다.\n",
    "> 개별 파일에서 x, y, z 를 추출하는 작업을 함수화 \n"
   ]
  },
  {
   "cell_type": "code",
   "execution_count": 68,
   "metadata": {},
   "outputs": [
    {
     "name": "stdout",
     "output_type": "stream",
     "text": [
      "x_len : 99939, y_len : 99939, z_len : 99939\n"
     ]
    }
   ],
   "source": [
    "file_path = '/home/lilmae/Desktop/Rotray_Machine_Data/dataset/VBL-VA001/bearing/bearing_000_Ch08_100g_PE_Acceleration.csv'\n",
    "data_pd = pd.read_csv(file_path, header=None)\n",
    "data_pd.columns = ['time', 'x', 'y', 'z']\n",
    "\n",
    "time_np = data_pd['time'].to_numpy(dtype='float32')\n",
    "x_np = data_pd['x'].to_numpy(dtype='float32')\n",
    "y_np = data_pd['y'].to_numpy(dtype='float32')\n",
    "z_np = data_pd['z'].to_numpy(dtype='float32')\n",
    "\n",
    "print(f'x_len : {len(x_np)}, y_len : {len(y_np)}, z_len : {len(z_np)}')"
   ]
  },
  {
   "cell_type": "markdown",
   "metadata": {},
   "source": [
    "## 4.2 데이터 interpolation\n",
    "- 서로 다른 sampling rate 를 가지는 데이터를 활용하기 때문에 이 sampling rate 를 맞추어 주는 것이 필요하다.\n",
    "- target sampling rate 를 기준으로 데이터를 interpolation 할 수 있도록 한다."
   ]
  },
  {
   "cell_type": "code",
   "execution_count": 69,
   "metadata": {},
   "outputs": [
    {
     "name": "stdout",
     "output_type": "stream",
     "text": [
      "start time : 0.00292899995110929, end time : 4.999981880187988, total_time : 4.9970526695251465\n",
      "start time : 0.0, end time : 4.9970526695251465, total_time : 4.9970526695251465\n"
     ]
    }
   ],
   "source": [
    "start = time_np[0]\n",
    "end = time_np[-1]\n",
    "total = end-start\n",
    "print(f'start time : {start}, end time : {end}, total_time : {total}')\n",
    "\n",
    "# 각 기록 시간은 시작시간 기준이 아닌 종료 시간 기준인 것을 알 수 있다. 이를 시작시간 기준으로 바꾸어 interpolation을 용이하게 해준다.\n",
    "time_np = time_np - start\n",
    "\n",
    "start = time_np[0]\n",
    "end = time_np[-1]\n",
    "total = end-start\n",
    "print(f'start time : {start}, end time : {end}, total_time : {total}')"
   ]
  },
  {
   "cell_type": "code",
   "execution_count": 76,
   "metadata": {},
   "outputs": [],
   "source": [
    "from scipy.interpolate import interp1d\n",
    "\n",
    "signal = x_np # 센서 하나씩 interpolation할 수 있도록 한다 : 예시 x-sensor\n",
    "target_sampling = 10*1000 # 기준으로 정한 sampling rate : 예시 10kHz\n",
    "target_time = np.linspace(0, end, target_sampling, endpoint=False) # target sampling rate에 맞도록 시간축 생성\n",
    "\n",
    "interpolator = interp1d(time_np, signal, kind='linear')\n",
    "interpolated_signal = interpolator(target_time)"
   ]
  },
  {
   "cell_type": "markdown",
   "metadata": {},
   "source": [
    "## 4.3 전체 데이터를 순회해서 접근\n",
    "- 전체 데이터를 순회하여 접근하고 데이터 파일과 클래스 정보를 확인하는 작업을 해준다."
   ]
  },
  {
   "cell_type": "code",
   "execution_count": 89,
   "metadata": {},
   "outputs": [
    {
     "name": "stdout",
     "output_type": "stream",
     "text": [
      "/home/lilmae/Desktop/Rotray_Machine_Data/dataset/VBL-VA001/normal/normal_125-2_Ch08_100g_PE_Acceleration.csv\n"
     ]
    }
   ],
   "source": [
    "import os\n",
    "\n",
    "vbl_root = os.path.join(os.getcwd(), 'dataset', 'VBL-VA001')\n",
    "\n",
    "for class_name in os.listdir(vbl_root):\n",
    "    class_dir = os.path.join(vbl_root, class_name)\n",
    "    \n",
    "    for file_name in os.listdir(class_dir):\n",
    "        file_path = os.path.join(class_dir, file_name)\n",
    "\n",
    "    "
   ]
  },
  {
   "cell_type": "code",
   "execution_count": null,
   "metadata": {},
   "outputs": [],
   "source": []
  }
 ],
 "metadata": {
  "kernelspec": {
   "display_name": "LLM",
   "language": "python",
   "name": "python3"
  },
  "language_info": {
   "codemirror_mode": {
    "name": "ipython",
    "version": 3
   },
   "file_extension": ".py",
   "mimetype": "text/x-python",
   "name": "python",
   "nbconvert_exporter": "python",
   "pygments_lexer": "ipython3",
   "version": "3.10.15"
  }
 },
 "nbformat": 4,
 "nbformat_minor": 2
}
