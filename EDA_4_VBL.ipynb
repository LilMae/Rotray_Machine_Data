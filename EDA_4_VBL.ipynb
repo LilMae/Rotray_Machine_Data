{
 "cells": [
  {
   "cell_type": "markdown",
   "metadata": {},
   "source": [
    "# 4. VBL-VA001 Dataset"
   ]
  },
  {
   "cell_type": "code",
   "execution_count": 2,
   "metadata": {},
   "outputs": [],
   "source": [
    "import pandas as pd\n",
    "import numpy as np\n",
    "\n",
    "sampling_rate = 20*1000 # 20kHz\n",
    "motor_speed = 3000 # 3000 RPM fixed"
   ]
  },
  {
   "cell_type": "markdown",
   "metadata": {},
   "source": [
    "## 4.1 개별 데이터 확인\n",
    "- 먼저 개별 데이터(파일)이 어떤 형태로 존재하는 지 확인해 본다.\n",
    "- 확인 후, 데이터를 센서 단위로 잘라서 np.float32로 바꾸는 작업까지 해둔다.\n",
    "> 개별 파일에서 x, y, z 를 추출하는 작업을 함수화 \n"
   ]
  },
  {
   "cell_type": "markdown",
   "metadata": {},
   "source": [
    "![Sample Image](figs/4_sensor.png )"
   ]
  },
  {
   "cell_type": "code",
   "execution_count": 3,
   "metadata": {},
   "outputs": [
    {
     "name": "stdout",
     "output_type": "stream",
     "text": [
      "x_len : 99939, y_len : 99939, z_len : 99939\n"
     ]
    }
   ],
   "source": [
    "file_path = '/home/lilmae/Desktop/Rotray_Machine_Data/dataset/VBL-VA001/bearing/bearing_000_Ch08_100g_PE_Acceleration.csv'\n",
    "data_pd = pd.read_csv(file_path, header=None)\n",
    "data_pd.columns = ['time', 'x', 'y', 'z']\n",
    "\n",
    "time_np = data_pd['time'].to_numpy(dtype='float32')\n",
    "x_np = data_pd['x'].to_numpy(dtype='float32')\n",
    "y_np = data_pd['y'].to_numpy(dtype='float32')\n",
    "z_np = data_pd['z'].to_numpy(dtype='float32')\n",
    "\n",
    "print(f'x_len : {len(x_np)}, y_len : {len(y_np)}, z_len : {len(z_np)}')"
   ]
  },
  {
   "cell_type": "markdown",
   "metadata": {},
   "source": [
    "## 4.2 데이터 interpolation\n",
    "- 서로 다른 sampling rate 를 가지는 데이터를 활용하기 때문에 이 sampling rate 를 맞추어 주는 것이 필요하다.\n",
    "- target sampling rate 를 기준으로 데이터를 interpolation 할 수 있도록 한다."
   ]
  },
  {
   "cell_type": "code",
   "execution_count": 4,
   "metadata": {},
   "outputs": [
    {
     "name": "stdout",
     "output_type": "stream",
     "text": [
      "start time : 0.00292899995110929, end time : 4.999981880187988, total_time : 4.9970526695251465\n",
      "start time : 0.0, end time : 4.9970526695251465, total_time : 4.9970526695251465\n"
     ]
    }
   ],
   "source": [
    "start = time_np[0]\n",
    "end = time_np[-1]\n",
    "total = end-start\n",
    "print(f'start time : {start}, end time : {end}, total_time : {total}')\n",
    "\n",
    "# 각 기록 시간은 시작시간 기준이 아닌 종료 시간 기준인 것을 알 수 있다. 이를 시작시간 기준으로 바꾸어 interpolation을 용이하게 해준다.\n",
    "time_np = time_np - start\n",
    "\n",
    "start = time_np[0]\n",
    "end = time_np[-1]\n",
    "total = end-start\n",
    "print(f'start time : {start}, end time : {end}, total_time : {total}')"
   ]
  },
  {
   "cell_type": "code",
   "execution_count": 5,
   "metadata": {},
   "outputs": [],
   "source": [
    "from scipy.interpolate import interp1d\n",
    "\n",
    "signal = x_np # 센서 하나씩 interpolation할 수 있도록 한다 : 예시 x-sensor\n",
    "target_sampling = 10*1000 # 기준으로 정한 sampling rate : 예시 10kHz\n",
    "target_time = np.linspace(0, end, target_sampling, endpoint=False) # target sampling rate에 맞도록 시간축 생성\n",
    "\n",
    "interpolator = interp1d(time_np, signal, kind='linear')\n",
    "interpolated_signal = interpolator(target_time)"
   ]
  },
  {
   "cell_type": "markdown",
   "metadata": {},
   "source": [
    "## 4.3 전체 데이터를 순회해서 접근\n",
    "- 전체 데이터를 순회하여 접근하고 데이터 파일과 클래스 정보를 확인하는 작업을 해준다.\n",
    "    > 클래스가 unbalance 인 경우 6g 과 27g 의 하부 클래스가 존재함\n",
    "- 이를 파일 이름, 파일 경로, 클래스 정보 로 데이터베이스화 한다."
   ]
  },
  {
   "cell_type": "code",
   "execution_count": null,
   "metadata": {},
   "outputs": [],
   "source": [
    "import os\n",
    "\n",
    "vbl_root = os.path.join(os.getcwd(), 'dataset', 'VBL-VA001')\n",
    "\n",
    "data ={\n",
    "    'file_name' : [],\n",
    "    'file_path' : [],\n",
    "    'class' : [],\n",
    "    'load' : [],\n",
    "    'severity' : [],\n",
    "    'sampling_rate' : sampling_rate,\n",
    "    'speed' : motor_speed\n",
    "}\n",
    "\n",
    "for class_name in os.listdir(vbl_root):\n",
    "    class_dir = os.path.join(vbl_root, class_name)\n",
    "    \n",
    "    for file_name in os.listdir(class_dir):\n",
    "        file_path = os.path.join(class_dir, file_name)\n",
    "\n",
    "        severity = None\n",
    "        # 클래스가 unbalance 인 경우에는 하부 클래스 정보가 추가로 필요하다.\n",
    "        if class_name == 'unbalance':\n",
    "            unbalance_scale = file_name.split('_')[0]\n",
    "            if unbalance_scale =='ub':\n",
    "                unbalance_scale = file_name.split('_')[1]\n",
    "            else:\n",
    "                unbalance_scale = unbalance_scale[-2:]\n",
    "            severity = unbalance_scale\n",
    "        \n",
    "        data['file_name'].append(file_name)\n",
    "        data['file_path'].append(file_path)\n",
    "        data['class'].append(class_name)\n",
    "        data['severity'].append(severity)\n",
    "\n",
    "data_pd = pd.DataFrame(data)"
   ]
  },
  {
   "cell_type": "code",
   "execution_count": 7,
   "metadata": {},
   "outputs": [
    {
     "data": {
      "text/html": [
       "<div>\n",
       "<style scoped>\n",
       "    .dataframe tbody tr th:only-of-type {\n",
       "        vertical-align: middle;\n",
       "    }\n",
       "\n",
       "    .dataframe tbody tr th {\n",
       "        vertical-align: top;\n",
       "    }\n",
       "\n",
       "    .dataframe thead th {\n",
       "        text-align: right;\n",
       "    }\n",
       "</style>\n",
       "<table border=\"1\" class=\"dataframe\">\n",
       "  <thead>\n",
       "    <tr style=\"text-align: right;\">\n",
       "      <th></th>\n",
       "      <th>file_name</th>\n",
       "      <th>file_path</th>\n",
       "      <th>class</th>\n",
       "      <th>severity</th>\n",
       "      <th>sampling_rate</th>\n",
       "      <th>speed</th>\n",
       "    </tr>\n",
       "  </thead>\n",
       "  <tbody>\n",
       "    <tr>\n",
       "      <th>0</th>\n",
       "      <td>normal_125-2_Ch08_100g_PE_Acceleration.csv</td>\n",
       "      <td>/home/lilmae/Desktop/Rotray_Machine_Data/datas...</td>\n",
       "      <td>normal</td>\n",
       "      <td>None</td>\n",
       "      <td>20000</td>\n",
       "      <td>3000</td>\n",
       "    </tr>\n",
       "    <tr>\n",
       "      <th>1</th>\n",
       "      <td>normal_095_Ch08_100g_PE_Acceleration.csv</td>\n",
       "      <td>/home/lilmae/Desktop/Rotray_Machine_Data/datas...</td>\n",
       "      <td>normal</td>\n",
       "      <td>None</td>\n",
       "      <td>20000</td>\n",
       "      <td>3000</td>\n",
       "    </tr>\n",
       "    <tr>\n",
       "      <th>2</th>\n",
       "      <td>normal_007-2_Ch08_100g_PE_Acceleration.csv</td>\n",
       "      <td>/home/lilmae/Desktop/Rotray_Machine_Data/datas...</td>\n",
       "      <td>normal</td>\n",
       "      <td>None</td>\n",
       "      <td>20000</td>\n",
       "      <td>3000</td>\n",
       "    </tr>\n",
       "    <tr>\n",
       "      <th>3</th>\n",
       "      <td>normal_194_Ch08_100g_PE_Acceleration.csv</td>\n",
       "      <td>/home/lilmae/Desktop/Rotray_Machine_Data/datas...</td>\n",
       "      <td>normal</td>\n",
       "      <td>None</td>\n",
       "      <td>20000</td>\n",
       "      <td>3000</td>\n",
       "    </tr>\n",
       "    <tr>\n",
       "      <th>4</th>\n",
       "      <td>normal_z_005-2_Ch08_100g_PE_Acceleration.csv</td>\n",
       "      <td>/home/lilmae/Desktop/Rotray_Machine_Data/datas...</td>\n",
       "      <td>normal</td>\n",
       "      <td>None</td>\n",
       "      <td>20000</td>\n",
       "      <td>3000</td>\n",
       "    </tr>\n",
       "  </tbody>\n",
       "</table>\n",
       "</div>"
      ],
      "text/plain": [
       "                                      file_name  \\\n",
       "0    normal_125-2_Ch08_100g_PE_Acceleration.csv   \n",
       "1      normal_095_Ch08_100g_PE_Acceleration.csv   \n",
       "2    normal_007-2_Ch08_100g_PE_Acceleration.csv   \n",
       "3      normal_194_Ch08_100g_PE_Acceleration.csv   \n",
       "4  normal_z_005-2_Ch08_100g_PE_Acceleration.csv   \n",
       "\n",
       "                                           file_path   class severity  \\\n",
       "0  /home/lilmae/Desktop/Rotray_Machine_Data/datas...  normal     None   \n",
       "1  /home/lilmae/Desktop/Rotray_Machine_Data/datas...  normal     None   \n",
       "2  /home/lilmae/Desktop/Rotray_Machine_Data/datas...  normal     None   \n",
       "3  /home/lilmae/Desktop/Rotray_Machine_Data/datas...  normal     None   \n",
       "4  /home/lilmae/Desktop/Rotray_Machine_Data/datas...  normal     None   \n",
       "\n",
       "   sampling_rate  speed  \n",
       "0          20000   3000  \n",
       "1          20000   3000  \n",
       "2          20000   3000  \n",
       "3          20000   3000  \n",
       "4          20000   3000  "
      ]
     },
     "execution_count": 7,
     "metadata": {},
     "output_type": "execute_result"
    }
   ],
   "source": [
    "data_pd.head()"
   ]
  },
  {
   "cell_type": "markdown",
   "metadata": {},
   "source": [
    "## 4.4 전체 함수화\n",
    "1. `generate_vbl_df` : 전체 데이터를 순회해 pd.DataFrame 으로 만드는 함수\n",
    "2. `open_vbl_file` : 개별 데이터를 열어 time,x,y,z 의 np.array 로 추출해 주는 함수\n",
    "3. `interpol_vbl` :센서 데이터를 지정하는 sampling rate로 interpolation 해주는 함수"
   ]
  },
  {
   "cell_type": "code",
   "execution_count": 8,
   "metadata": {},
   "outputs": [],
   "source": [
    "import os\n",
    "import pandas as pd\n",
    "import numpy as np\n",
    "from scipy.interpolate import interp1d\n",
    "\n",
    "# 1. generate_vbl_df : 전체 데이터를 순회해 pd.DataFrame 으로 만드는 함수\n",
    "def generate_vbl_df(vbl_root):\n",
    "\n",
    "    sampling_rate = 20*1000 # 20kHz\n",
    "    motor_speed = 3000 # 3000 RPM fixed\n",
    "\n",
    "    data ={\n",
    "        'file_name' : [],\n",
    "        'file_path' : [],\n",
    "        'class' : [],\n",
    "        'severity' : [],\n",
    "        'sampling_rate' : sampling_rate,\n",
    "        'speed' : motor_speed\n",
    "    }\n",
    "\n",
    "    for class_name in os.listdir(vbl_root):\n",
    "        class_dir = os.path.join(vbl_root, class_name)\n",
    "        \n",
    "        for file_name in os.listdir(class_dir):\n",
    "            file_path = os.path.join(class_dir, file_name)\n",
    "\n",
    "            severity = None\n",
    "            # 클래스가 unbalance 인 경우에는 하부 클래스 정보가 추가로 필요하다.\n",
    "            if class_name == 'unbalance':\n",
    "                unbalance_scale = file_name.split('_')[0]\n",
    "                if unbalance_scale =='ub':\n",
    "                    unbalance_scale = file_name.split('_')[1]\n",
    "                else:\n",
    "                    unbalance_scale = unbalance_scale[-2:]\n",
    "                severity = unbalance_scale\n",
    "            \n",
    "            data['file_name'].append(file_name)\n",
    "            data['file_path'].append(file_path)\n",
    "            data['class'].append(class_name)\n",
    "            data['severity'].append(severity)\n",
    "\n",
    "    data_pd = pd.DataFrame(data)\n",
    "\n",
    "    return data_pd\n",
    "\n",
    "# 2. open_vbl_file : 개별 데이터를 열어 time,x,y,z 의 np.array 로 추출해 주는 함수\n",
    "def open_vbl_file(file_path):\n",
    "    data_pd = pd.read_csv(file_path, header=None)\n",
    "    data_pd.columns = ['time', 'x', 'y', 'z']\n",
    "\n",
    "    time_np = data_pd['time'].to_numpy(dtype='float32')\n",
    "    x_np = data_pd['x'].to_numpy(dtype='float32')\n",
    "    y_np = data_pd['y'].to_numpy(dtype='float32')\n",
    "    z_np = data_pd['z'].to_numpy(dtype='float32')\n",
    "    \n",
    "    return time_np, x_np, y_np, z_np\n",
    "\n",
    "# 3. interpol_vbl :센서 데이터를 지정하는 sampling rate로 interpolation 해주는 함수\n",
    "def interpol_vbl(signal_np, time_np, target_sampling):\n",
    "    \n",
    "    sampling_rate = 20*1000 # 20kHz\n",
    "    \n",
    "    start = time_np[0]\n",
    "\n",
    "    # 각 기록 시간은 시작시간 기준이 아닌 종료 시간 기준인 것을 알 수 있다. 이를 시작시간 기준으로 바꾸어 interpolation을 용이하게 해준다.\n",
    "    time_np = time_np - start\n",
    "    end = time_np[-1]\n",
    "\n",
    "    target_sampling = 10*1000 # 기준으로 정한 sampling rate : 예시 10kHz\n",
    "    target_time = np.linspace(0, end, target_sampling, endpoint=False) # target sampling rate에 맞도록 시간축 생성\n",
    "\n",
    "    interpolator = interp1d(time_np, signal_np, kind='linear')\n",
    "    interpolated_signal = interpolator(target_time)\n",
    "    \n",
    "    return interpolated_signal"
   ]
  },
  {
   "cell_type": "code",
   "execution_count": null,
   "metadata": {},
   "outputs": [],
   "source": [
    "def load_vbl(vbl_root):\n",
    "\n",
    "    sampling_rate = 20*1000 # 20kHz\n",
    "    motor_speed = 3000 # 3000 RPM fixed\n",
    "\n",
    "    file_name_list = []\n",
    "    file_path_list = []\n",
    "    class_name_list = []\n",
    "    severity_list = []\n",
    "\n",
    "    for class_name in os.listdir(vbl_root):\n",
    "        class_dir = os.path.join(vbl_root, class_name)\n",
    "        \n",
    "        for file_name in os.listdir(class_dir):\n",
    "            file_path = os.path.join(class_dir, file_name)\n",
    "\n",
    "            severity = None\n",
    "            # 클래스가 unbalance 인 경우에는 하부 클래스 정보가 추가로 필요하다.\n",
    "            if class_name == 'unbalance':\n",
    "                unbalance_scale = file_name.split('_')[0]\n",
    "                if unbalance_scale =='ub':\n",
    "                    unbalance_scale = file_name.split('_')[1]\n",
    "                else:\n",
    "                    unbalance_scale = unbalance_scale[-2:]\n",
    "                severity = unbalance_scale\n",
    "            \n",
    "            file_name_list.append(file_name)\n",
    "            file_path_list.append(file_path)\n",
    "            class_name_list.append(class_name)\n",
    "            severity_list.append(severity)\n",
    "\n",
    "    vbl_dataset = raw_dataset()\n",
    "    vbl_dataset.file_name = file_name_list\n",
    "    vbl_dataset.file_path = file_path_list\n",
    "    vbl_dataset.class_name = class_name_list\n",
    "    sampling_rate_list = [sampling_rate for _ in range(len(file_name_list))]\n",
    "    vbl_dataset.sampling_rate = sampling_rate_list\n",
    "    speed_list = [motor_speed for _ in range(len(file_name_list))]\n",
    "    vbl_dataset.speed = speed_list\n",
    "\n",
    "    return vbl_dataset"
   ]
  },
  {
   "cell_type": "markdown",
   "metadata": {},
   "source": [
    "# 함수동작 확인"
   ]
  },
  {
   "cell_type": "code",
   "execution_count": 9,
   "metadata": {},
   "outputs": [
    {
     "name": "stdout",
     "output_type": "stream",
     "text": [
      "NO Problem\n"
     ]
    }
   ],
   "source": [
    "import os\n",
    "\n",
    "fault_vbl_root = os.path.join(os.getcwd(), 'dataset', 'VBL-VA001')\n",
    "target_sampling = 10*1000\n",
    "\n",
    "data_pd = generate_vbl_df(fault_vbl_root)\n",
    "\n",
    "for file_path in data_pd['file_path']:\n",
    "    time_np, x_np, y_np, z_np = open_vbl_file(file_path)\n",
    "    \n",
    "    interpolated_signal = interpol_vbl(x_np, time_np, target_sampling)\n",
    "    \n",
    "print('NO Problem')"
   ]
  },
  {
   "cell_type": "code",
   "execution_count": null,
   "metadata": {},
   "outputs": [],
   "source": []
  }
 ],
 "metadata": {
  "kernelspec": {
   "display_name": "LLM",
   "language": "python",
   "name": "python3"
  },
  "language_info": {
   "codemirror_mode": {
    "name": "ipython",
    "version": 3
   },
   "file_extension": ".py",
   "mimetype": "text/x-python",
   "name": "python",
   "nbconvert_exporter": "python",
   "pygments_lexer": "ipython3",
   "version": "3.10.15"
  }
 },
 "nbformat": 4,
 "nbformat_minor": 2
}
