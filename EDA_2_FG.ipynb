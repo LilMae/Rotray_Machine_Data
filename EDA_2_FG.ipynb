{
 "cells": [
  {
   "cell_type": "markdown",
   "metadata": {},
   "source": [
    "# 2. FG Dataset"
   ]
  },
  {
   "cell_type": "code",
   "execution_count": 1,
   "metadata": {},
   "outputs": [],
   "source": [
    "import pandas as pd\n",
    "import numpy as np\n",
    "\n",
    "sampling_rate = 20*1000 # 20kHz\n",
    "motor_speed = 3000 # 3000 RPM fixed"
   ]
  },
  {
   "cell_type": "markdown",
   "metadata": {},
   "source": [
    "## 2.1 개별 데이터 확인\n",
    "- 먼저 개별 데이터(파일)이 어떤 형태로 존재하는 지 확인해 본다.\n",
    "- 확인 후, 데이터를 센서 단위로 잘라서 np.float32로 바꾸는 작업까지 해둔다.\n",
    "> 개별 파일에서 y_pulley, x_disk, y_disk 를 추출하는 작업"
   ]
  },
  {
   "cell_type": "markdown",
   "metadata": {},
   "source": [
    "![Sample Image](figs/2_sensor.png )"
   ]
  },
  {
   "cell_type": "code",
   "execution_count": null,
   "metadata": {},
   "outputs": [],
   "source": [
    "# .npy 파일은 논문의 벤치마크를 위해 특징값을 추출해 둔것임(원 데이터 아님)\n",
    "\n",
    "file_path = '/home/lilmae/Desktop/Rotray_Machine_Data/dataset/FG/0D.csv'\n",
    "data_pd = pd.read_csv(file_path)\n",
    "# 1. 'Measured_RPM' 칼럼을 int 형으로 변경\n",
    "data_pd['Measured_RPM'] = data_pd['Measured_RPM'].astype(int)\n",
    "# 2. 'Measured_RPM'이 100 이하인 행 제거\n",
    "data_pd = data_pd[data_pd['Measured_RPM'] > 100]\n",
    "\n",
    "print(data_pd.head())\n",
    "\n",
    "x_disk_np = data_pd['Vibration_1'].to_numpy('float32')\n",
    "y_disk_np = data_pd['Vibration_2'].to_numpy('float32')\n",
    "y_pulley_np = data_pd['Vibration_3'].to_numpy('float32')\n",
    "motor_speed = data_pd['Measured_RPM'].to_numpy('float32')"
   ]
  },
  {
   "cell_type": "markdown",
   "metadata": {},
   "source": [
    "## 2.2 데이터 interpolation\n",
    "- 서로 다른 sampling rate 를 가지는 데이터를 활용하기 때문에 이 sampling rate 를 맞추어 주는 것이 필요하다.\n",
    "- target sampling rate 를 기준으로 데이터를 interpolation 할 수 있도록 한다."
   ]
  },
  {
   "cell_type": "code",
   "execution_count": 23,
   "metadata": {},
   "outputs": [],
   "source": [
    "from scipy.interpolate import interp1d\n",
    "\n",
    "signal_np = x_disk_np # 센서 하나씩 interpolation할 수 있도록 한다 : 예시 x-sensor\n",
    "\n",
    "time_np = np.arange(len(signal_np))/sampling_rate\n",
    "end = time_np[-1]\n",
    "target_sampling = 10*1000 # 기준으로 정한 sampling rate : 예시 10kHz\n",
    "target_time = np.linspace(0, end, target_sampling, endpoint=False) # target sampling rate에 맞도록 시간축 생성\n",
    "\n",
    "interpolator = interp1d(time_np, signal_np, kind='linear')\n",
    "interpolated_signal = interpolator(target_time)"
   ]
  },
  {
   "cell_type": "markdown",
   "metadata": {},
   "source": [
    "## 2.3 전체 데이터를 순회해서 접근\n",
    "- 전체 데이터를 순회하여 접근하고 데이터 파일과 클래스 정보를 확인하는 작업을 해준다.\n",
    "- 이를 파일 이름, 파일 경로, 클래스 정보 로 데이터베이스화 한다."
   ]
  },
  {
   "cell_type": "code",
   "execution_count": 24,
   "metadata": {},
   "outputs": [],
   "source": [
    "import os\n",
    "\n",
    "fg_root = os.path.join(os.getcwd(), 'dataset', 'FG')\n",
    "\n",
    "data ={\n",
    "    'file_name' : [],\n",
    "    'file_path' : [],\n",
    "    'class' : [],\n",
    "    'severity' : [],\n",
    "    'sampling_rate' : sampling_rate,\n",
    "}\n",
    "severity_dict = {\n",
    "    '0' : None,\n",
    "    '1' : 45.9,\n",
    "    '2' : 60.7,\n",
    "    '3' : 75.5,\n",
    "    '4' : 152.1\n",
    "}\n",
    "\n",
    "files = [f for f in os.listdir(fg_root) if f.endswith('.csv')]\n",
    "for file_name in files:\n",
    "    \n",
    "    file_path = os.path.join(fg_root, file_name)\n",
    "    \n",
    "    class_name = 'normal' if file_name[0]=='0' else 'unbalance'\n",
    "    severity = severity_dict[file_name[0]]\n",
    "    \n",
    "    data['file_name'].append(file_name)\n",
    "    data['file_path'].append(file_path)\n",
    "    data['class'].append(class_name)\n",
    "    data['severity'].append(severity)\n",
    "\n",
    "data_pd = pd.DataFrame(data)"
   ]
  },
  {
   "cell_type": "code",
   "execution_count": null,
   "metadata": {},
   "outputs": [],
   "source": [
    "data_pd.head()"
   ]
  },
  {
   "cell_type": "markdown",
   "metadata": {},
   "source": [
    "## 2.4 전체 함수화\n",
    "1. `generate_fg_df` : 전체 데이터를 순회해 pd.DataFrame 으로 만드는 함수\n",
    "2. `open_fg_file` : 개별 데이터를 열어 x_disk ,y_dixk , y_pulley, motor_speed 의 np.array 로 추출해 주는 함수\n",
    "3. `interpol_fg` :센서 데이터를 지정하는 sampling rate로 interpolation 해주는 함수"
   ]
  },
  {
   "cell_type": "code",
   "execution_count": 3,
   "metadata": {},
   "outputs": [],
   "source": [
    "import os\n",
    "import pandas as pd\n",
    "import numpy as np\n",
    "from scipy.interpolate import interp1d\n",
    "\n",
    "# 1. generate_fg_df : 전체 데이터를 순회해 pd.DataFrame 으로 만드는 함수\n",
    "def generate_fg_df(fg_root):\n",
    "    \n",
    "    sampling_rate = 20*1000 # 20kHz\n",
    "    data ={\n",
    "        'file_name' : [],\n",
    "        'file_path' : [],\n",
    "        'class' : [],\n",
    "        'severity' : [],\n",
    "        'sampling_rate' : sampling_rate,\n",
    "    }\n",
    "    severity_dict = {\n",
    "        '0' : None,\n",
    "        '1' : 45.9,\n",
    "        '2' : 60.7,\n",
    "        '3' : 75.5,\n",
    "        '4' : 152.1\n",
    "    }\n",
    "\n",
    "    files = [f for f in os.listdir(fg_root) if f.endswith('.csv')]\n",
    "    for file_name in files:\n",
    "        \n",
    "        file_path = os.path.join(fg_root, file_name)\n",
    "        \n",
    "        class_name = 'normal' if file_name[0]=='0' else 'unbalance'\n",
    "        severity = severity_dict[file_name[0]]\n",
    "        \n",
    "        data['file_name'].append(file_name)\n",
    "        data['file_path'].append(file_path)\n",
    "        data['class'].append(class_name)\n",
    "        data['severity'].append(severity)\n",
    "\n",
    "    data_pd = pd.DataFrame(data)\n",
    "\n",
    "    return data_pd\n",
    "\n",
    "# 2. open_vbl_file : 개별 데이터를 열어 time,x,y,z 의 np.array 로 추출해 주는 함수\n",
    "def open_fg_file(file_path):\n",
    "    \n",
    "    data_pd = pd.read_csv(file_path)\n",
    "\n",
    "    # 1. 'Measured_RPM' 칼럼을 int 형으로 변경\n",
    "    data_pd = data_pd.dropna(subset=['Measured_RPM'])\n",
    "    data_pd['Measured_RPM'] = data_pd['Measured_RPM'].astype(int)\n",
    "    # 2. 'Measured_RPM'이 100 이하인 행 제거\n",
    "    data_pd = data_pd[data_pd['Measured_RPM'] > 100]\n",
    "    \n",
    "    x_disk_np = data_pd['Vibration_1'].to_numpy('float32')\n",
    "    y_disk_np = data_pd['Vibration_2'].to_numpy('float32')\n",
    "    y_pulley_np = data_pd['Vibration_3'].to_numpy('float32')\n",
    "    motor_speed = data_pd['Measured_RPM'].to_numpy('float32')\n",
    "    \n",
    "    return x_disk_np, y_disk_np, y_pulley_np, motor_speed\n",
    "\n",
    "# 3. interpol_vbl :센서 데이터를 지정하는 sampling rate로 interpolation 해주는 함수\n",
    "def interpol_fg(signal_np, target_sampling):\n",
    "    \n",
    "    sampling_rate = 20*1000 # 20kHz\n",
    "    signal_np = x_disk_np # 센서 하나씩 interpolation할 수 있도록 한다 : 예시 x-sensor\n",
    "\n",
    "    time_np = np.arange(len(signal_np))/sampling_rate\n",
    "    end = time_np[-1]\n",
    "    target_sampling = 10*1000 # 기준으로 정한 sampling rate : 예시 10kHz\n",
    "    target_time = np.linspace(0, end, target_sampling, endpoint=False) # target sampling rate에 맞도록 시간축 생성\n",
    "\n",
    "    interpolator = interp1d(time_np, signal_np, kind='linear')\n",
    "    interpolated_signal = interpolator(target_time)\n",
    "    \n",
    "    return interpolated_signal"
   ]
  },
  {
   "cell_type": "markdown",
   "metadata": {},
   "source": [
    "# 함수동작 확인"
   ]
  },
  {
   "cell_type": "code",
   "execution_count": 4,
   "metadata": {},
   "outputs": [
    {
     "name": "stdout",
     "output_type": "stream",
     "text": [
      "NO Problem\n"
     ]
    }
   ],
   "source": [
    "import os\n",
    "\n",
    "fault_fg_root = os.path.join(os.getcwd(), 'dataset', 'FG')\n",
    "target_sampling = 10*1000\n",
    "\n",
    "data_pd = generate_fg_df(fault_fg_root)\n",
    "\n",
    "for file_path in data_pd['file_path']:\n",
    "    \n",
    "    x_disk_np, y_disk_np, y_pulley_np, motor_speed = open_fg_file(file_path)\n",
    "    \n",
    "    interpolated_signal = interpol_fg(x_disk_np, target_sampling)\n",
    "    \n",
    "print('NO Problem')"
   ]
  },
  {
   "cell_type": "code",
   "execution_count": 7,
   "metadata": {},
   "outputs": [
    {
     "name": "stdout",
     "output_type": "stream",
     "text": [
      "class : ['unbalance' 'normal']\n"
     ]
    }
   ],
   "source": [
    "print(f'class : {data_pd[\"class\"].unique()}')"
   ]
  },
  {
   "cell_type": "code",
   "execution_count": null,
   "metadata": {},
   "outputs": [],
   "source": [
    "import torch\n",
    "from torch.utils.data import Dataset\n",
    "\n",
    "class FG_Dataset(Dataset):\n",
    "    def __init__(self, data_root, resample_rate, window_size, hop_size,\n",
    "                 classes=['Looseness', 'Unbalance', 'Normal Condition', 'Misalignment']):\n",
    "        # 회전 주파수 (Hz)\n",
    "        self.sampling_rate = 10 * 1000  # 20kHz\n",
    "        self.motor_speed = 1238  # 3000 RPM fixed\n",
    "        self.classes = classes\n",
    "\n",
    "        data_pd = generate_dxai_df(fault_dxai_root)\n",
    "        x_list = []\n",
    "        y_list = []\n",
    "        global_indices = []\n",
    "\n",
    "        for file_idx, (file_path, class_name) in enumerate(zip(data_pd['file_path'], data_pd['class'])):\n",
    "            if class_name not in classes:\n",
    "                continue\n",
    "\n",
    "            y_pulley_np, x_pulley_np, y_disk_np, x_disk_np = open_dxai_file(file_path)\n",
    "\n",
    "            y_pulley_np = interpol_vbl(y_pulley_np, resample_rate)\n",
    "            x_pulley_np = interpol_vbl(x_pulley_np, resample_rate)\n",
    "            y_disk_np = interpol_vbl(y_disk_np, resample_rate)\n",
    "            x_disk_np = interpol_vbl(x_disk_np, resample_rate)\n",
    "\n",
    "            data_len = len(y_pulley_np)\n",
    "            max_len = (data_len - window_size) // hop_size * hop_size + window_size\n",
    "            num_sample = (data_len - window_size) // hop_size\n",
    "\n",
    "            y_pulley_np = y_pulley_np[:max_len]\n",
    "            x_pulley_np = x_pulley_np[:max_len]\n",
    "            y_disk_np = y_disk_np[:max_len]\n",
    "            x_disk_np = x_disk_np[:max_len]\n",
    "\n",
    "            x_set = {\n",
    "                'y_pulley_np': y_pulley_np,\n",
    "                'x_pulley_np': x_pulley_np,\n",
    "                'y_disk_np': y_disk_np,\n",
    "                'x_disk_np': x_disk_np\n",
    "            }\n",
    "\n",
    "            x_list.append(x_set)\n",
    "            y_list.append(class_name)\n",
    "\n",
    "            # 전역 인덱스 생성\n",
    "            global_indices.extend([(file_idx, sample_idx) for sample_idx in range(num_sample)])\n",
    "\n",
    "        self.x_list = x_list\n",
    "        self.y_list = y_list\n",
    "        self.global_indices = global_indices\n",
    "        self.window_size = window_size\n",
    "        self.hop_size = hop_size\n",
    "\n",
    "    def __len__(self):\n",
    "        return len(self.global_indices)\n",
    "\n",
    "    def __getitem__(self, idx):\n",
    "        # 전역 인덱스를 활용해 파일 인덱스와 샘플 인덱스를 가져옴\n",
    "        file_idx, sample_idx = self.global_indices[idx]\n",
    "\n",
    "        x_set = self.x_list[file_idx]\n",
    "        class_name = self.y_list[file_idx]\n",
    "\n",
    "        # 슬라이싱 범위 계산\n",
    "        start_idx = sample_idx * self.hop_size\n",
    "        end_idx = start_idx + self.window_size\n",
    "\n",
    "        windowed_data = {\n",
    "            'y_pulley_np': x_set['y_pulley_np'][start_idx:end_idx],\n",
    "            'x_pulley_np': x_set['x_pulley_np'][start_idx:end_idx],\n",
    "            'y_disk_np': x_set['y_disk_np'][start_idx:end_idx],\n",
    "            'x_disk_np': x_set['x_disk_np'][start_idx:end_idx]\n",
    "        }\n",
    "\n",
    "        # 클래스 이름을 인덱스로 변환\n",
    "        class_idx = self.classes.index(class_name)\n",
    "\n",
    "        return windowed_data, class_idx\n",
    "        \n",
    "    \n",
    "    def get_minimum_window(self, num_cycles = 10):\n",
    "\n",
    "        rotation_frequency = self.motor_speed / 60\n",
    "\n",
    "        # 윈도우 크기 (샘플 수)\n",
    "        window_size = int(sampling_rate * num_cycles / rotation_frequency)\n",
    "        window_time = window_size/sampling_rate\n",
    "\n",
    "        print(f\"회전 주파수: {rotation_frequency} Hz\")\n",
    "        print(f\"윈도우 크기: {window_size} 샘플, {window_time} 초\")\n",
    "\n",
    "        return window_size"
   ]
  }
 ],
 "metadata": {
  "kernelspec": {
   "display_name": "LLM",
   "language": "python",
   "name": "python3"
  },
  "language_info": {
   "codemirror_mode": {
    "name": "ipython",
    "version": 3
   },
   "file_extension": ".py",
   "mimetype": "text/x-python",
   "name": "python",
   "nbconvert_exporter": "python",
   "pygments_lexer": "ipython3",
   "version": "3.10.15"
  }
 },
 "nbformat": 4,
 "nbformat_minor": 2
}
